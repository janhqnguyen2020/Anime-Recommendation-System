{
 "cells": [
  {
   "cell_type": "markdown",
   "id": "2b34f67b-e2d3-43d5-a6c0-1f2278767086",
   "metadata": {},
   "source": [
    "#  <u><center> Anime Recommendation Summarization </center>\n",
    "<center> CISB Natural Language Processing </center>\n",
    "<center> Prof. Sohair Zaki</center>\n",
    "<center> by Joseph Nguyen </center>"
   ]
  },
  {
   "cell_type": "markdown",
   "id": "c91745a8-5538-4460-9afc-9569eb99a789",
   "metadata": {},
   "source": [
    "For this final project, I will be using a Kaggle dataset\n",
    "Kaggle site: [Anime Data](https://www.kaggle.com/datasets/arnavvvvv/anime-dataset)\n",
    "\n",
    "Github Repo:\n",
    "\n",
    "Youtube Demo:\n"
   ]
  },
  {
   "cell_type": "markdown",
   "id": "8eefac8c-4778-45bd-949a-04fff36aa359",
   "metadata": {},
   "source": [
    "## Introduction\n",
    "\n",
    "One of my few passions in life is staying up to date with the latest animes. This final project was exciting in terms of how open ended the actual content would be. I truly appreciate the opportunity to pick a dataset of my choice and be free in terms of what NLP concepts I wanted to apply. I was interested in personalizing this project to one of my personal interests, and creating a recommendation system for anime was one of them. In addition to my love for anime, another motivation in creating this specific project was derived from my own need for more content. I have watched multiple Anime's which is a testament to how invested I am in these unique stories and animation. I often have to grapple with the end of a beloved anime series, and how I could potentially find other shows that are similar to that story. This is the main reason for my interest in creating an anime recommendation system."
   ]
  },
  {
   "cell_type": "markdown",
   "id": "3776d67a-bc01-4e43-b5b0-c3693b00b660",
   "metadata": {},
   "source": [
    "## Summary\n",
    "\n",
    "The dataset that I used came from Kaggle, and I was specifically working with the animes.csv file. Each row in this dataset correspsonded to an anime and there were properties of that anime such as release date, score, and more. My First task was to process the data by eliminating unnecessary columns and creating new columns to better fit my needs for exploratory data analysis. For exploratory data analysis, I used a countplot to measure the number of anime sper decade and year. The trend that I noticed from the countplot was a rise in anime's as the year continues. The score column was an indicator of how good an anime was; The lowest score was \"Phantomi: Mini Anime\" with a score of 1.25, highest score was \"Fullmetal Alchemist: Brotherhood\" with a score of 9.23, and the average score was 6.36. I was able to utilize a pivot table to express these highs, lows, and averages for each decade. A violinplot was used to visually represent the spread of scores for each decade. In addition a regplot was used in conjunction with the pearson value to dtermine that there is a strong positive correlation between members and score. \n",
    "\n",
    "The NLP libraries and pretrained models that I used for this final prject included: *SpaCy* , *NLTK*, and *TfidfVectorizer* algorithm. From SpaCy, I wanted to focus on **named entity recognition** which helps identify and categorize specific entities in the text. The entities give important pieces of information. NLTK library is helpful for text processing. I was able to use **tokenization** to split text into individual tokens, **lemmatize** words to break down into root form, and filter out **stopwords**. I also used **Latent Dirichlet Allocation** to identify 12 topics amongst all the anime entries and a **wordcloud** was used to visualize the first two topics. The NLP application that I sought to implement was a <u>recommendation system</u>."
   ]
  },
  {
   "cell_type": "markdown",
   "id": "3e248516-b0e9-4bf0-a7cf-72dcefaaaa5c",
   "metadata": {},
   "source": [
    "## Conclusion\n",
    "The recommendation system for anime works as I intended. I am able to put in an anime, and the model will output at most 10 animes that are very similar to the input anime. My only concern is that the anime dataset is a bit outdated. I am sure that the number of anime has continued to increase, especially considering the trend that was identified during exploratory data analysis. This model is limited by old data. In terms of how I can improve this model, I wanted to know how I can imcorprate the genre column into deciding animes based on select genres. The genre column was hard to work with considering there were multiple genres, and I had a hard time trying to figure out how each may overlap. The project was difficult and I had a lot of trouble iwth the recommendation system. Implementing it was a struggle, but I am happy that I was able to get a minimum output."
   ]
  }
 ],
 "metadata": {
  "kernelspec": {
   "display_name": "Python 3 (ipykernel)",
   "language": "python",
   "name": "python3"
  },
  "language_info": {
   "codemirror_mode": {
    "name": "ipython",
    "version": 3
   },
   "file_extension": ".py",
   "mimetype": "text/x-python",
   "name": "python",
   "nbconvert_exporter": "python",
   "pygments_lexer": "ipython3",
   "version": "3.12.3"
  }
 },
 "nbformat": 4,
 "nbformat_minor": 5
}
